{
 "cells": [
  {
   "cell_type": "markdown",
   "metadata": {},
   "source": [
    "# Libraries"
   ]
  },
  {
   "cell_type": "code",
   "execution_count": 1,
   "metadata": {},
   "outputs": [],
   "source": [
    "import numpy as np\n",
    "import random\n",
    "import matplotlib.pyplot as plt\n",
    "from ipywidgets import widgets\n",
    "import nibabel as nib"
   ]
  },
  {
   "cell_type": "markdown",
   "metadata": {},
   "source": [
    "# Loading files"
   ]
  },
  {
   "cell_type": "code",
   "execution_count": null,
   "metadata": {},
   "outputs": [],
   "source": [
    "# Here include your segmentation of the file.\n",
    "probability_path = "
   ]
  },
  {
   "cell_type": "code",
   "execution_count": null,
   "metadata": {},
   "outputs": [],
   "source": [
    "# Defining paths\n",
    "path_prediction = 'sub-007_feta_segmentation.nii.gz'\n",
    "\n",
    "input_path = 'sub-007_feta_t1_input.nii.gz'\n",
    "\n",
    "# Reading data\n",
    "img_data = nib.load(path_prediction).get_fdata()\n",
    "input_data = nib.load(input_path).get_fdata()\n",
    "\n",
    "data = np.load(probability_path)\n",
    "tensor = data['probabilities']\n"
   ]
  },
  {
   "cell_type": "markdown",
   "metadata": {},
   "source": [
    "# Computing Entropy"
   ]
  },
  {
   "cell_type": "code",
   "execution_count": null,
   "metadata": {},
   "outputs": [],
   "source": [
    "\n",
    "def compute_entropy_4D(tensor):\n",
    "    \"\"\"\n",
    "    Compute the entropy on a 4D tensor with shape (number_of_classes, 256, 256, 256).\n",
    "    \n",
    "    Parameters:\n",
    "        tensor (np.ndarray): 4D tensor of shape (number_of_classes, 256, 256, 256)\n",
    "        \n",
    "    Returns:\n",
    "        np.ndarray: 3D tensor of shape (256, 256, 256) with entropy values for each pixel.\n",
    "    \"\"\"\n",
    "    \n",
    "    # First, normalize the tensor along the class axis so that it represents probabilities\n",
    "    sum_tensor = np.sum(tensor, axis=0, keepdims=True)\n",
    "    tensor_normalized = tensor / sum_tensor\n",
    "    \n",
    "    # Calculate entropy\n",
    "    entropy_elements = -tensor_normalized * np.log2(tensor_normalized + 1e-12)  # Added a small value to avoid log(0)\n",
    "    entropy = np.sum(entropy_elements, axis=0)\n",
    "    \n",
    "    entropy = np.transpose(entropy, (2,1,0))\n",
    "    \n",
    "    total_entropy = np.sum(entropy)\n",
    "    \n",
    "    return entropy, total_entropy"
   ]
  },
  {
   "cell_type": "code",
   "execution_count": null,
   "metadata": {},
   "outputs": [],
   "source": [
    "entropy_data, total_entropy = compute_entropy_4D(tensor)"
   ]
  },
  {
   "cell_type": "markdown",
   "metadata": {},
   "source": [
    "# Visualizing Entropy"
   ]
  },
  {
   "cell_type": "code",
   "execution_count": null,
   "metadata": {},
   "outputs": [],
   "source": [
    "\n",
    "\n",
    "\n",
    "# Compute entropy\n",
    "\n",
    "\n",
    "\n",
    "# Import load_image_data function if it's from a different module\n",
    "# from your_module import load_image_data\n",
    "\n",
    "def plot_single_slice(file_name, slice_index, input_data, img_data, entropy_data):\n",
    "    labels = ['background', 'cerebrospinal fluid', 'gray matter', 'white matter', 'ventricles', 'cerebellum', 'deep gray matter', 'brainstem']\n",
    "    colors = ['black', 'gray', 'white', 'red', 'orange', 'yellow', 'green', 'blue']\n",
    "\n",
    "    cmap = ListedColormap(colors) # Define the colormap\n",
    "    \n",
    "    fig, ax = plt.subplots(1, 3, figsize=(15, 7))\n",
    "    ax[2].imshow(entropy_data[slice_index, :, :], cmap='inferno')  # Using a colormap better suited for entropy\n",
    "    ax[2].set_title(f'{file_name}')\n",
    "    \n",
    "    ax[1].imshow(img_data[slice_index, :, :], cmap=cmap, vmin=0, vmax=7)\n",
    "    ax[1].set_title('Segmentation')\n",
    "    \n",
    "    ax[0].imshow(input_data[slice_index, :, :], cmap='gray')\n",
    "    ax[0].set_title('Input')\n",
    "\n",
    "    # Create a legend\n",
    "    patches = [mpatches.Patch(color=colors[i], label=label) for i, label in enumerate(labels)]\n",
    "    plt.legend(handles=patches, bbox_to_anchor=(1.05, 1), loc=2, borderaxespad=0.)\n",
    "\n",
    "    plt.suptitle(f'{file_name} - Slice {slice_index}', y=0.98)  # moving the title up slightly\n",
    "\n",
    "    plt.show()\n",
    "\n",
    "def plot_single_image(file_name, input_data, img_data, entropy_data):\n",
    "    # Assuming that entropy_tensor is a 3D numpy array with shape (256, 256, 256)\n",
    "    # or that load_image_data function is capable of reading it into this shape\n",
    "\n",
    "    min_index = 0\n",
    "    max_index = entropy_data.shape[0] - 1  # Changed to 0, assuming that entropy_tensor is 3D with shape (256, 256, 256)\n",
    "\n",
    "    # Create interactive plot\n",
    "    widgets.interact(\n",
    "        plot_single_slice,\n",
    "        file_name=widgets.fixed(file_name),\n",
    "        slice_index=widgets.IntSlider(min=min_index, max=max_index, step=1, value=max_index // 2),\n",
    "        entropy_data=widgets.fixed(entropy_data),  # Passed entropy_tensor here\n",
    "        img_data=widgets.fixed(img_data),\n",
    "        input_data = widgets.fixed(input_data))"
   ]
  },
  {
   "cell_type": "code",
   "execution_count": null,
   "metadata": {},
   "outputs": [],
   "source": [
    "\n",
    "# Test the function\n",
    "plot_single_image('Entropy Image', input_data, img_data, entropy_data )\n"
   ]
  }
 ],
 "metadata": {
  "kernelspec": {
   "display_name": "nnunet",
   "language": "python",
   "name": "python3"
  },
  "language_info": {
   "codemirror_mode": {
    "name": "ipython",
    "version": 3
   },
   "file_extension": ".py",
   "mimetype": "text/x-python",
   "name": "python",
   "nbconvert_exporter": "python",
   "pygments_lexer": "ipython3",
   "version": "3.9.16"
  },
  "orig_nbformat": 4
 },
 "nbformat": 4,
 "nbformat_minor": 2
}
